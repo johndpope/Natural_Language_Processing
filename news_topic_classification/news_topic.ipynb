{
 "cells": [
  {
   "cell_type": "code",
   "execution_count": 1,
   "metadata": {
    "collapsed": true
   },
   "outputs": [],
   "source": [
    "import tensorflow as tf\n",
    "import numpy as np"
   ]
  },
  {
   "cell_type": "code",
   "execution_count": null,
   "metadata": {
    "collapsed": true
   },
   "outputs": [],
   "source": [
    "class topicCNN(object):\n",
    "    def __init__(self, vocabulary_size, embedding_size, filter_size, filter_num, max_news_size, topic_size):\n",
    "        #input information\n",
    "        self.input_news=tf.placeholder(tf.int64, [None, max_news_size], name='input_news')\n",
    "        self.input_topic=tf.placeholder(tf.int64, [None], name='input_topic')\n",
    "        #embedding size, notice that GPU cannot used in embedding.\n",
    "        with tf.device('/cpu:0'), tf.name_scope('embedding'):\n",
    "            embedding_matrix=tf.Variable(tf.random_uniform([vocabulary_size,embedding_size],-1,1), name='embed_matrix')\n",
    "            #self.embedding_news : [None(batch_size), max_news_size, embedding_size]\n",
    "            self.embedding_news=tf.nn.embedding_lookup(embedding_matrix,self.input_news)\n",
    "            #but the conv2d operation need 4-d tensor: [None(batch_size), max_news_size, embedding_size, channel]\n",
    "            self.embedding_news=tf.expand_dims(self.embedding_news,-1)\n",
    "        \n",
    "        #covolutional layer and max_pool layer\n",
    "        res_after_pool=[]\n",
    "        for index,temp_filter_size in enumerate(filter_size):\n",
    "            with tf.name_scope('convolution_pool_with_filter_size_%s' % index):\n",
    "                filter_shape=[temp_filter_size,embedding_size,1,filter_num]\n",
    "                w=tf.Variable(tf.truncated_normal(filter_shape, stddev=0.1), name='w')\n",
    "                b=tf.Variable(tf.constant(0.1, shape=[filter_num]), name='b')\n",
    "                #VALID denotes narrow convolution, without padding the edges.\n",
    "                conv=tf.nn.conv2d(self.embedding_news,w,strides=[1,1,1,1],padding='VALID',name='convolution_layer')\n",
    "                relu_conv=tf.nn.relu(tf.nn.bias_add(conv,b), name='relu')\n",
    "                pool=tf.nn.max_pool(relu_conv,ksize=[1,max_news_size-temp_filter_size+1,1,1],\n",
    "                                    strides=[1,1,1,1],padding='VALID',name='pool_layer')\n",
    "                #tensor shape after pool: [batch_size,1,1,filter_num]\n",
    "                res_after_pool.append(pool)\n",
    "        \n",
    "        #concatenate all pooled features and add dropout\n",
    "        total_filter_num=len(filter_size)*filter_num\n",
    "        self.pooled_feature=tf.concat(3,res_after_pool) \n",
    "        self.pooled_feature=tf.reshape(self.pooled_feature,[-1,total_filter_num])\n",
    "        #[batch_size,total_filter_num]\n",
    "        #probability of dropout, only applied when training.\n",
    "        self.dropout_keep_probability=tf.placeholder(tf.float32, name='dropout_keep_probability')\n",
    "        with tf.name_scope('drop_out'):\n",
    "            self.dropout_feature=tf.nn.dropout(self.pooled_feature,self.dropout_keep_probability)\n",
    "        \n",
    "        #unnormalized scores and prediction\n",
    "        with tf.name_scope('output'):\n",
    "            w=tf.Variable(tf.truncated_normal([total_filter_num,topic_size],stddev=0.1),name='w')\n",
    "            b=tf.Variable(tf.constant(0.1,shape=[topic_size]),name='b')\n",
    "            self.scores=tf.nn.xw_plus_b(self.dropout_feature,w,b,name='scores')\n",
    "            self.prediction=tf.argmax(self.scores,1,name='prediction')\n",
    "        \n",
    "        #loss\n",
    "        with tf.name_scope('loss'):\n",
    "            losses=tf.nn.sparse_softmax_cross_entropy_with_logits(self.scores, self.input_topic)\n",
    "            self.loss=tf.reduce_mean(losses,name='loss')\n",
    "            \n",
    "        #accuracy\n",
    "        with tf.name_scope('accuracy'):\n",
    "            correct_pre=tf.equal(self.prediction,self.input_topic))\n",
    "            self.accuracy=tf.reduce_mean(tf.cast(correct_pre,'float'),name='accuracy')\n",
    "        \n",
    "            \n",
    "        \n",
    "        \n",
    "                \n",
    "        \n",
    "            "
   ]
  }
 ],
 "metadata": {
  "kernelspec": {
   "display_name": "Python 2",
   "language": "python",
   "name": "python2"
  },
  "language_info": {
   "codemirror_mode": {
    "name": "ipython",
    "version": 2
   },
   "file_extension": ".py",
   "mimetype": "text/x-python",
   "name": "python",
   "nbconvert_exporter": "python",
   "pygments_lexer": "ipython2",
   "version": "2.7.12"
  }
 },
 "nbformat": 4,
 "nbformat_minor": 1
}
